{
 "cells": [
  {
   "cell_type": "code",
   "execution_count": 4,
   "id": "6daa9f50",
   "metadata": {},
   "outputs": [
    {
     "name": "stdout",
     "output_type": "stream",
     "text": [
      "Best.\n",
      "Summer.\n",
      "Ever.\n",
      "\n"
     ]
    }
   ],
   "source": [
    "import pytesseract\n",
    "from PIL import Image\n",
    "\n",
    "pytesseract.pytesseract.tesseract_cmd = r\"C:\\Program Files\\Tesseract-OCR\\tesseract.exe\"\n",
    "\n",
    "img_path = \"C:/Users/dell/PycharmProjects/ComputerVision_30Days/Resources/text.jpg\"\n",
    "\n",
    "text = pytesseract.image_to_string(Image.open(img_path), lang = 'eng')\n",
    "\n",
    "print((text))"
   ]
  },
  {
   "cell_type": "code",
   "execution_count": 6,
   "id": "31a07828",
   "metadata": {},
   "outputs": [
    {
     "name": "stderr",
     "output_type": "stream",
     "text": [
      "Neither CUDA nor MPS are available - defaulting to CPU. Note: This module is much faster with a GPU.\n"
     ]
    },
    {
     "name": "stdout",
     "output_type": "stream",
     "text": [
      "Best:Summer.Ever .\n"
     ]
    }
   ],
   "source": [
    "from easyocr import Reader\n",
    "\n",
    "reader = Reader(['en'])\n",
    "text1 = ''\n",
    "results = reader.readtext(Image.open(img_path))\n",
    "for result in results:\n",
    "    text1 = text1 + result[1]\n",
    "#print(results)\n",
    "print(text1)"
   ]
  }
 ],
 "metadata": {
  "kernelspec": {
   "display_name": "Python 3.12",
   "language": "python",
   "name": "python312"
  },
  "language_info": {
   "codemirror_mode": {
    "name": "ipython",
    "version": 3
   },
   "file_extension": ".py",
   "mimetype": "text/x-python",
   "name": "python",
   "nbconvert_exporter": "python",
   "pygments_lexer": "ipython3",
   "version": "3.12.8"
  }
 },
 "nbformat": 4,
 "nbformat_minor": 5
}
